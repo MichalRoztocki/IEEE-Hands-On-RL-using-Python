{
  "nbformat": 4,
  "nbformat_minor": 0,
  "metadata": {
    "colab": {
      "name": "IEEE Hands-On RL using Python Prep.ipynb",
      "provenance": [],
      "collapsed_sections": [],
      "authorship_tag": "ABX9TyPYNglQ7384GjcJXRIC3Fvb",
      "include_colab_link": true
    },
    "kernelspec": {
      "name": "python3",
      "display_name": "Python 3"
    }
  },
  "cells": [
    {
      "cell_type": "markdown",
      "metadata": {
        "id": "view-in-github",
        "colab_type": "text"
      },
      "source": [
        "<a href=\"https://colab.research.google.com/github/sadiakhaf/IEEE-Hands-On-RL-using-Python/blob/main/IEEE_Hands_On_RL_using_Python_Prep.ipynb\" target=\"_parent\"><img src=\"https://colab.research.google.com/assets/colab-badge.svg\" alt=\"Open In Colab\"/></a>"
      ]
    },
    {
      "cell_type": "code",
      "metadata": {
        "id": "Bm5mYgLtsBt_"
      },
      "source": [
        "#   ____                            _____     _____                   __          __        _        _                 \r\n",
        "#  / __ \\                     /\\   |_   _|   / ____|                  \\ \\        / /       | |      | |                \r\n",
        "# | |  | |_ __   ___ _ __    /  \\    | |    | |  __ _   _ _ __ ___     \\ \\  /\\  / /__  _ __| | _____| |__   ___  _ __  \r\n",
        "# | |  | | '_ \\ / _ \\ '_ \\  / /\\ \\   | |    | | |_ | | | | '_ ` _ \\     \\ \\/  \\/ / _ \\| '__| |/ / __| '_ \\ / _ \\| '_ \\ \r\n",
        "# | |__| | |_) |  __/ | | |/ ____ \\ _| |_   | |__| | |_| | | | | | |     \\  /\\  / (_) | |  |   <\\__ \\ | | | (_) | |_) |\r\n",
        "#  \\____/| .__/ \\___|_| |_/_/    \\_\\_____|   \\_____|\\__, |_| |_| |_|      \\/  \\/ \\___/|_|  |_|\\_\\___/_| |_|\\___/| .__/ \r\n",
        "#        | |                                         __/ |                                                      | |    \r\n",
        "#        |_|                                        |___/                                                       |_|    "
      ],
      "execution_count": null,
      "outputs": []
    },
    {
      "cell_type": "markdown",
      "metadata": {
        "id": "MuyVNmxgtwgI"
      },
      "source": [
        "\r\n",
        "\r\n",
        "---\r\n",
        "\r\n",
        "\r\n",
        "# Setting up the environment with everything we need\r\n",
        "\r\n",
        "\r\n",
        "---\r\n",
        "\r\n",
        "First things first, lets get us a screen!\r\n"
      ]
    },
    {
      "cell_type": "code",
      "metadata": {
        "colab": {
          "base_uri": "https://localhost:8080/"
        },
        "id": "oLPTNqbMy3td",
        "outputId": "aad1073f-25eb-4cfe-d21a-c34ea7b25132"
      },
      "source": [
        "!apt-get install -y xvfb python-opengl > /dev/null 2>&1\r\n",
        "!pip install gym pyvirtualdisplay > /dev/null 2>&1\r\n",
        "import pyvirtualdisplay\r\n",
        "display = pyvirtualdisplay.Display(visible=False,  # use False with Xvfb\r\n",
        "                                    size=(1400, 900))\r\n",
        "display.start()"
      ],
      "execution_count": null,
      "outputs": [
        {
          "output_type": "execute_result",
          "data": {
            "text/plain": [
              "<pyvirtualdisplay.display.Display at 0x7f571d8d6410>"
            ]
          },
          "metadata": {
            "tags": []
          },
          "execution_count": 2
        }
      ]
    },
    {
      "cell_type": "markdown",
      "metadata": {
        "id": "fGtCCALYyypV"
      },
      "source": [
        "\r\n",
        "\r\n",
        "---\r\n",
        "\r\n",
        "\r\n",
        "# Importing Libraries\r\n",
        "\r\n",
        "\r\n",
        "---\r\n",
        "The most important library we need is *gym*. **gym** provides us **environments**.\r\n",
        "\r\n",
        "\r\n",
        "\r\n",
        "\r\n",
        "\r\n",
        "\r\n",
        "\r\n",
        "## Computing Libraries\r\n",
        "\r\n",
        "\r\n",
        "\r\n",
        "Its really up to you whatever library you are comfortable with. **gym** uses NumPy base so you should be able to use it with any library of your choice. I'll use just NumPy. Tensorflow and PyTorch might be your cup of tea so go ahead use them.\r\n",
        "\r\n",
        "## Ploting libraries\r\n",
        "\r\n",
        "Totally your choice. I like matplotlib so let's use that for today!\r\n",
        "\r\n",
        "\r\n",
        "---\r\n",
        "\r\n",
        "\r\n"
      ]
    },
    {
      "cell_type": "code",
      "metadata": {
        "id": "QTcPlYORy09a"
      },
      "source": [
        "import gym\r\n",
        "from gym import spaces\r\n",
        "\r\n",
        "import numpy as np\r\n",
        "import random #You could just use np.random as well, totally fine\r\n",
        "from random import randint\r\n",
        "\r\n",
        "import matplotlib.pyplot as plt\r\n",
        "from IPython import display as ipythondisplay"
      ],
      "execution_count": null,
      "outputs": []
    },
    {
      "cell_type": "markdown",
      "metadata": {
        "id": "EC_n50grHQyc"
      },
      "source": [
        "---\r\n",
        "# Functions of ENVIRONMENT and AGENT\r\n",
        "---\r\n",
        "A picture is worth a thousand words!\r\n",
        "\r\n",
        "*   What is an **environment** in RL? And What is an **agent**?\r\n",
        "*   What is *state*?\r\n",
        "*   What is an *action*?\r\n",
        "*   What is *reward*?\r\n",
        "\r\n",
        "---"
      ]
    },
    {
      "cell_type": "markdown",
      "metadata": {
        "id": "bDhHpNTS_4E9"
      },
      "source": [
        "![picture](https://drive.google.com/uc?export=view&id=13oYKs5qWbpPekxMQN5ExG2kLo4ih4pKS)\r\n",
        "\r\n",
        "\r\n",
        "https://drive.google.com/file/d/13oYKs5qWbpPekxMQN5ExG2kLo4ih4pKS/view?usp=sharing\r\n"
      ]
    },
    {
      "cell_type": "markdown",
      "metadata": {
        "id": "s8EIwx1PvX1e"
      },
      "source": [
        "---\r\n",
        "# ***THE DRILL***\r\n",
        "---\r\n",
        "\r\n",
        "\r\n",
        "In the *beginning* there was nothing. then came \"initial state\"\r\n",
        "\r\n",
        "1. REST() env and get state\r\n",
        "  2.   Give this state to *agent*, wait for him to *act* --> ACT()\r\n",
        "  3.   Give his *action* to env and get *reward* --> STEP()\r\n",
        "  4.   Pass this reward to *agent* for his behavior, make him learn --> UPDATE(). Plot something if you need to.\r\n",
        "  5.   Go to step 2\r\n",
        "\r\n",
        "---\r\n",
        "\r\n"
      ]
    },
    {
      "cell_type": "markdown",
      "metadata": {
        "id": "tpsMdeiOuMl8"
      },
      "source": [
        "\r\n",
        "\r\n",
        "---\r\n",
        "\r\n",
        "\r\n",
        "# Importing you first **gym** environment\r\n",
        "\r\n",
        "\r\n",
        "\r\n",
        "---\r\n",
        "\r\n",
        "*   What is this **gym** anyway?\r\n",
        "*   Why should I use gym? My work has nothing to do with *games*.\r\n",
        "*   Where do I find documentation and help for gym?\r\n",
        "*   What exactly are *spaces* in gym?\r\n",
        "\r\n",
        "# Complete gym codes\r\n",
        "Go check it out on github: https://github.com/openai/gym/tree/master/gym \r\n",
        "\r\n",
        "# More gym environments for you to try\r\n",
        "More OpenAI gym environments can be found on OpenAI gym website. \r\n",
        "https://gym.openai.com/envs/#classic_control \r\n",
        "\r\n",
        "---\r\n",
        "# How do I install gym on my local machine, I'm using Visual Studio Code and Anaconda\r\n",
        "*    Create  new environment e.g. NumPygymEnv\r\n",
        "*    Activate the newly created environment\r\n",
        "*    pip install gym"
      ]
    },
    {
      "cell_type": "code",
      "metadata": {
        "id": "r3eV0EZwy8Lj"
      },
      "source": [
        "env_name = \"CartPole-v1\"\r\n",
        "# env_name = \"MountainCar-v0\"\r\n",
        "# env_name = \"Pendulum-v0\"\r\n",
        "\r\n",
        "\r\n",
        "env = gym.make(env_name)\r\n",
        "\r\n",
        "env.reset()\r\n",
        "prev_screen = env.render(mode='rgb_array')\r\n",
        "plt.imshow(prev_screen)\r\n",
        "\r\n",
        "for i in range(50):\r\n",
        "  action = env.action_space.sample()\r\n",
        "  # action = 1\r\n",
        "  print(\"The selected action is: \",action)\r\n",
        "  obs, reward, done, info = env.step(action)\r\n",
        "  screen = env.render(mode='rgb_array')\r\n",
        "  \r\n",
        "  plt.imshow(screen)\r\n",
        "  ipythondisplay.clear_output(wait=True)\r\n",
        "  ipythondisplay.display(plt.gcf())\r\n",
        "\r\n",
        "  if done:\r\n",
        "    break\r\n",
        "    \r\n",
        "ipythondisplay.clear_output(wait=True)\r\n",
        "env.close()"
      ],
      "execution_count": null,
      "outputs": []
    },
    {
      "cell_type": "code",
      "metadata": {
        "id": "_Zhl2r6azAGi"
      },
      "source": [
        "# display.stop()"
      ],
      "execution_count": null,
      "outputs": []
    },
    {
      "cell_type": "markdown",
      "metadata": {
        "id": "kQVBHI25IO5a"
      },
      "source": [
        "---\r\n",
        "# But how do I know what are the inputs and outputs of these functions??\r\n",
        "---\r\n",
        "\r\n",
        "1.   help()\r\n",
        "2.   dir()\r\n",
        "3.   Go to the source code -> https://github.com/openai/gym/tree/master/gym \r\n",
        "4.   If you still need help, google it\r\n",
        "\r\n",
        "\r\n",
        "\r\n",
        "\r\n"
      ]
    },
    {
      "cell_type": "code",
      "metadata": {
        "colab": {
          "base_uri": "https://localhost:8080/"
        },
        "id": "n_s0gV2UHtBx",
        "outputId": "593e2f72-4908-45b2-bf36-8ff520c15072"
      },
      "source": [
        "help(env.step)"
      ],
      "execution_count": null,
      "outputs": [
        {
          "output_type": "stream",
          "text": [
            "Help on method step in module gym.wrappers.time_limit:\n",
            "\n",
            "step(action) method of gym.wrappers.time_limit.TimeLimit instance\n",
            "    Run one timestep of the environment's dynamics. When end of\n",
            "    episode is reached, you are responsible for calling `reset()`\n",
            "    to reset this environment's state.\n",
            "    \n",
            "    Accepts an action and returns a tuple (observation, reward, done, info).\n",
            "    \n",
            "    Args:\n",
            "        action (object): an action provided by the agent\n",
            "    \n",
            "    Returns:\n",
            "        observation (object): agent's observation of the current environment\n",
            "        reward (float) : amount of reward returned after previous action\n",
            "        done (bool): whether the episode has ended, in which case further step() calls will return undefined results\n",
            "        info (dict): contains auxiliary diagnostic information (helpful for debugging, and sometimes learning)\n",
            "\n"
          ],
          "name": "stdout"
        }
      ]
    },
    {
      "cell_type": "code",
      "metadata": {
        "id": "CR3QtlXWj46Z"
      },
      "source": [
        "?env.observation_space"
      ],
      "execution_count": null,
      "outputs": []
    },
    {
      "cell_type": "code",
      "metadata": {
        "id": "GctfCyJ0Jmdj"
      },
      "source": [
        "dir(env)"
      ],
      "execution_count": null,
      "outputs": []
    },
    {
      "cell_type": "markdown",
      "metadata": {
        "id": "IeZLG-vEt-gH"
      },
      "source": [
        "---\r\n",
        "## What if I need to do environment specific tasks in my code?\r\n",
        "---\r\n",
        " Can I get an environment name or id from the created env?\r\n",
        "\r\n",
        " \r\n",
        "Yes you can. Lets google it. Head over to google search and type \"gym get env name\". Go thought first 2,3 links. Let me know what you found?"
      ]
    },
    {
      "cell_type": "code",
      "metadata": {
        "colab": {
          "base_uri": "https://localhost:8080/"
        },
        "id": "csZ7-tOWKFU9",
        "outputId": "8bfce1ff-d0a2-4be5-da68-0ff3655b71c4"
      },
      "source": [
        "print(\"Environment name: \",env.unwrapped.spec.id)"
      ],
      "execution_count": null,
      "outputs": [
        {
          "output_type": "stream",
          "text": [
            "Environment name:  CartPole-v1\n"
          ],
          "name": "stdout"
        }
      ]
    },
    {
      "cell_type": "code",
      "metadata": {
        "colab": {
          "base_uri": "https://localhost:8080/"
        },
        "id": "rywyKEyOK7L-",
        "outputId": "c93d1603-3033-44cf-f13a-6c73b94ef625"
      },
      "source": [
        "if \"CartPole\" in env.unwrapped.spec.id:\r\n",
        "  print(\"Env is CartPole Env\")"
      ],
      "execution_count": null,
      "outputs": [
        {
          "output_type": "stream",
          "text": [
            "Env is CartPole Env\n"
          ],
          "name": "stdout"
        }
      ]
    },
    {
      "cell_type": "markdown",
      "metadata": {
        "id": "__wAyzNNvHWn"
      },
      "source": [
        "---\r\n",
        "# Let's write our **AGENT** now!!\r\n",
        "---\r\n",
        "What does an agent do?\r\n",
        "\r\n",
        "What functions did we say an agent will have?\r\n",
        "\r\n",
        "\r\n",
        "---"
      ]
    },
    {
      "cell_type": "markdown",
      "metadata": {
        "id": "goaXVo5CNRT9"
      },
      "source": [
        "---\r\n",
        "# Q-table update\r\n",
        "---\r\n",
        "\r\n",
        "From Sutton and Barto Book:\r\n",
        "\r\n",
        "$Q(S_t,A_t) \\leftarrow Q(s_t,A_t) + \\alpha\\left[R_{t+1} + \\gamma \\max_a {Q(S_{t+1},a)}-Q(S_t,A_t)\\right]$\r\n",
        "\r\n",
        "\r\n",
        "---"
      ]
    },
    {
      "cell_type": "code",
      "metadata": {
        "id": "BDh3IO6YKrnb"
      },
      "source": [
        "class Agent:\r\n",
        "  def __init__(\r\n",
        "    self, lr: float, gamma: float, act_space: spaces.Discrete,\r\n",
        "    obs_space: spaces.Discrete, num_episodes: int, obs_space_len , action_space_len\r\n",
        "  ):\r\n",
        "\r\n",
        "    self.lr = lr  # learning rate\r\n",
        "    self.gamma = gamma  # gamma parameter\r\n",
        "    self.act_space = act_space\r\n",
        "    self.obs_space = obs_space\r\n",
        "    self.obs_space_len = obs_space_len\r\n",
        "    self.action_space_len = action_space_len\r\n",
        "    self.num_episodes = num_episodes  # episodes\r\n",
        "    self.eps: Array = np.exp(-5*np.linspace(0,1,num_episodes))   # epsilon value\r\n",
        "    self.qtable = np.random.uniform(low=-2, high=0, size=(self.obs_space_len+[self.action_space_len])) # Q-table\r\n",
        "    \r\n",
        "\r\n",
        "  def act(self, o: int, episode_i: int) -> int:  # function to choose action\r\n",
        "\r\n",
        "    if random.uniform(1.0, 0.0) < self.eps[episode_i]:  # epsilon-greedy condition for exploration\r\n",
        "      return # a uniformly sampled random action from action_space\r\n",
        "\r\n",
        "\r\n",
        "\r\n",
        "\r\n",
        "    return #the action that has the highest Q-value in state/observation o\r\n",
        "\r\n",
        "\r\n",
        "  def update(self, o: int, a: int, r: float, o_prime: int) -> float:  # agent update function (e.g. Q-learning update)\r\n",
        "\r\n",
        "    old_o_a_value   #store the Q-value for observation o and action a \r\n",
        "    q_prime   # estimate of optiomal future value (maximum Q-value in observation o_prime)\r\n",
        "\r\n",
        "    # Update Q-table based on the equation above\r\n",
        "\r\n",
        "\r\n",
        "    \r\n",
        "\r\n",
        "    return  # return delta update to training loop\r\n",
        "\r\n"
      ],
      "execution_count": null,
      "outputs": []
    },
    {
      "cell_type": "markdown",
      "metadata": {
        "id": "7vd6cYpKy-Fv"
      },
      "source": [
        "---\r\n",
        "For some environments we make small adjustments, like discretizing the states.\r\n",
        "\r\n",
        "---"
      ]
    },
    {
      "cell_type": "code",
      "metadata": {
        "id": "Bsmagt3gyDhg"
      },
      "source": [
        "  def get_discrete_state(state,obs_space_len,bins):\r\n",
        "    stateIndex = []\r\n",
        "    for i in range(obs_space_len):\r\n",
        "      stateIndex.append(np.digitize(state[i], bins[i]) - 1) # -1 will turn bin into index\r\n",
        "    return tuple(stateIndex) "
      ],
      "execution_count": null,
      "outputs": []
    },
    {
      "cell_type": "markdown",
      "metadata": {
        "id": "CR2D_lf4zMBA"
      },
      "source": [
        "---\r\n",
        "Let's see if our newly created agent is behaving the way it is supposed to.\r\n",
        "\r\n",
        "---"
      ]
    },
    {
      "cell_type": "code",
      "metadata": {
        "id": "rUJHplpDSwzC"
      },
      "source": [
        "agent = Agent(lr=0.1, gamma=0.95, act_space=env.action_space, \r\n",
        "              obs_space=env.observation_space, num_episodes=10000, \r\n",
        "              obs_space_len=[20], action_space_len=2)\r\n",
        "print(agent.qtable.shape)"
      ],
      "execution_count": null,
      "outputs": []
    },
    {
      "cell_type": "markdown",
      "metadata": {
        "id": "MRFE_7_lRC_f"
      },
      "source": [
        "\r\n",
        "---\r\n",
        "# The main loop for training the agent\r\n",
        "---\r\n",
        "\r\n",
        "Here is where all the action happens!"
      ]
    },
    {
      "cell_type": "code",
      "metadata": {
        "id": "B9AA4dJNRLiy"
      },
      "source": [
        "import pdb\r\n",
        "random.seed(1234)  # python random number generator seed\r\n",
        "DISPLAY_EVERY = 100\r\n",
        "if \"CartPole\" in env_name:\r\n",
        "  # print(\"Env is CartPole Env\")\r\n",
        "  \r\n",
        "  num_bins = 20\r\n",
        "  bins = [\r\n",
        "          np.linspace(-4.8, 4.8, num_bins),\r\n",
        "          np.linspace(-4, 4, num_bins),\r\n",
        "          np.linspace(-.418, .418, num_bins),\r\n",
        "          np.linspace(-4, 4, num_bins)\r\n",
        "        ]\r\n",
        "\r\n",
        "lr = 0.1  # learning rate\r\n",
        "gamma = 0.95  # gamma parameter\r\n",
        "num_episodes = 10000  # number of steps (episodes) in epsilon log-space\r\n",
        "# initialize our Rx agent with learning parameters and gym parameters\r\n",
        "if \"CartPole\" in env_name:\r\n",
        "  obs_space_len = [num_bins+1] *len(env.observation_space.high)\r\n",
        "  action_space_len = env.action_space.n\r\n",
        "  agent = Agent(\r\n",
        "      lr=lr,gamma=gamma,act_space=env.action_space,obs_space=env.observation_space,\r\n",
        "      num_episodes=num_episodes,obs_space_len=obs_space_len, action_space_len=action_space_len\r\n",
        "      )\r\n",
        "  prev_screen = env.render(mode='rgb_array')\r\n",
        "  plt.imshow(prev_screen)\r\n",
        "else:\r\n",
        "  obs_space_len = [env.horizon+1]\r\n",
        "  action_space_len = 2\r\n",
        "  agent = Agent(\r\n",
        "      lr=lr,gamma=gamma,act_space=env.action_space,obs_space=env.observation_space,\r\n",
        "      num_episodes=num_episodes,obs_space_len=obs_space_len, action_space_len=action_space_len\r\n",
        "      )  \r\n",
        "# show_verbose = True  # print information for debugging\r\n",
        "show_verbose = False\r\n",
        "render_gym = False  # render gym\r\n",
        "# render_gym = True\r\n",
        "running_len = 5  # length of our running training data\r\n",
        "running_delta = []  # running delta (e.g. the last running_len delta update)\r\n",
        "running_acc = []  # running accuracy (e.g. the last running_len accuracy)\r\n",
        "\r\n",
        "\r\n",
        "for episode_i in range(num_episodes): # episode loop\r\n",
        "  step_counter = 1\r\n",
        "  done = False\r\n",
        "  if show_verbose:\r\n",
        "    print('starting episode {episode_i}...'.format(episode_i=episode_i))\r\n",
        "  delta_update = []  # delta update of our Q-table\r\n",
        "  n_successes: int = 0  # number of optimal actions (actions with maximum reward)\r\n",
        "  cumul_r: float = 0.0  # cumulative reward\r\n",
        "  ############### Reset the environment and get initial o ##########################\r\n",
        "\r\n",
        "\r\n",
        "\r\n",
        "\r\n",
        "  if \"CartPole\" in env_name:\r\n",
        "    o = get_discrete_state(o,obs_space_len=len(env.observation_space.high),bins=bins)\r\n",
        "  while not done:\r\n",
        "    ################ Call the act function from agent and get the action for current o and episode_i ####################\r\n",
        "\r\n",
        "\r\n",
        "\r\n",
        "\r\n",
        "    ################ Pass this action to what function now? ############### What to get from that function? #############\r\n",
        "\r\n",
        "\r\n",
        "\r\n",
        "\r\n",
        "\r\n",
        "    if \"CartPole\" in env_name:\r\n",
        "      o_prime = get_discrete_state(o_prime,len(env.observation_space.high),bins=bins)\r\n",
        "\r\n",
        "    delta_update.append(agent.update(o=o,a=a,r=r,o_prime=o_prime))  # update agent with transition, get delta update\r\n",
        "\r\n",
        "    ######################## Update the state ##################################\r\n",
        "\r\n",
        "\r\n",
        "\r\n",
        "\r\n",
        "\r\n",
        "    cumul_r += r  # add reward to cumulative reward\r\n",
        "    n_successes += int(r > 0.0)  # success if optimal action-reward of 1.0\r\n",
        "    step_counter += 1\r\n",
        "    if episode_i % DISPLAY_EVERY == 0:\r\n",
        "      if render_gym:\r\n",
        "        if \"CartPole\" in env_name:\r\n",
        "          screen = env.render(mode='rgb_array')\r\n",
        "          plt.imshow(screen)\r\n",
        "          ipythondisplay.clear_output(wait=True)\r\n",
        "          ipythondisplay.display(plt.gcf())\r\n",
        "      if show_verbose:   # show transition of our model (e.i. <o, a, r, o'>)\r\n",
        "        print(\r\n",
        "          'transition=<{o}, {a}, {r}, {o_prime}>,'\r\n",
        "          ' delta_update={delta}'.format(\r\n",
        "            o=o, a=a, r=r, o_prime=o_prime, delta=delta_update[-1]\r\n",
        "          )\r\n",
        "        )    \r\n",
        "\r\n",
        "  running_acc.append(n_successes / step_counter)  # add latest accuracy to running data\r\n",
        "  running_delta.append(sum(delta_update).item())  # add latest update delta to running data\r\n",
        "  # print(running_delta)\r\n",
        "  print(\r\n",
        "    'episode {episode_i}: cumul_reward={cumul_r}, accuracy:{acc:0.1}, '\r\n",
        "    'cumul_delta={cumul_delta:0.1}, eps={eps:0.1}'.format(\r\n",
        "      episode_i=episode_i, cumul_r=cumul_r, acc=running_acc[-1],\r\n",
        "      cumul_delta=running_delta[episode_i], eps=agent.eps[episode_i]\r\n",
        "    )\r\n",
        "  )\r\n",
        "\r\n",
        "  # training stop conditions\r\n",
        "  if (\r\n",
        "    all([acc == 1.0 for acc in running_acc])  # all running accuracy are maximized\r\n",
        "    and all([delta < 0.0001 for delta in running_delta])  # all running delta update a lower than 0.0001\r\n",
        "    and episode_i >= running_len  # running data have reached running length\r\n",
        "  ) or episode_i >= num_episodes + running_len:  # epsilon was 0 for all running data (nothing will change)\r\n",
        "    break  # exit training loop\r\n",
        "\r\n",
        "ipythondisplay.clear_output(wait=True)\r\n",
        "env.close()  # close gym environment"
      ],
      "execution_count": null,
      "outputs": []
    },
    {
      "cell_type": "code",
      "metadata": {
        "colab": {
          "base_uri": "https://localhost:8080/"
        },
        "id": "NhlyAhmYTNJF",
        "outputId": "82d9c476-a42d-4080-ed44-681f974f6639"
      },
      "source": [
        "display.stop()"
      ],
      "execution_count": null,
      "outputs": [
        {
          "output_type": "execute_result",
          "data": {
            "text/plain": [
              "<pyvirtualdisplay.display.Display at 0x7f571d8d6410>"
            ]
          },
          "metadata": {
            "tags": []
          },
          "execution_count": 15
        }
      ]
    },
    {
      "cell_type": "code",
      "metadata": {
        "id": "wGzrIt8G49h2"
      },
      "source": [
        "stepsize= round(num_episodes/20)\r\n",
        "stdfigsize=(3.51*1.5,3*1.5)\r\n",
        "x = np.arange(1,num_episodes,stepsize)\r\n",
        "mkrs = [\"C2-s\",\"C0-o\",\"C1-^\",\"C4-*\",\"C3-d\",\"C4-x\",\"C5-.\",\"C6-d\",\"C7-v\",\"C8-,\",\"C9-<\",\"C20\",\"C11-\",\"C12-\"]\r\n",
        "fig = plt.figure(figsize=stdfigsize)\r\n",
        "\r\n",
        "plt.plot(x, running_acc[1:-1:stepsize],mkrs[0],label='Accuracy')\r\n",
        "plt.xlabel('Episode Number', fontsize='large')\r\n",
        "plt.ylabel('Accuracy', fontsize='large')\r\n",
        "plt.legend(loc='lower right',shadow=True,fontsize='large')\r\n",
        "plt.grid(True)\r\n"
      ],
      "execution_count": null,
      "outputs": []
    },
    {
      "cell_type": "code",
      "metadata": {
        "id": "OuycgQ89m1NM"
      },
      "source": [
        "stepsize= round(num_episodes/20)\r\n",
        "stdfigsize=(3.51*1.5,3*1.5)\r\n",
        "x = np.arange(1,num_episodes,stepsize)\r\n",
        "mkrs = [\"C2-s\",\"C0-o\",\"C1-^\",\"C4-*\",\"C3-d\",\"C4-x\",\"C5-.\",\"C6-d\",\"C7-v\",\"C8-,\",\"C9-<\",\"C20\",\"C11-\",\"C12-\"]\r\n",
        "fig = plt.figure(figsize=stdfigsize)\r\n",
        "plt.plot(x, running_delta[1:-1:stepsize],mkrs[4],label='Delta')\r\n",
        "plt.xlabel('Episode Number', fontsize='large')\r\n",
        "plt.ylabel('Accuracy', fontsize='large')\r\n",
        "plt.legend(loc='upper right',shadow=True,fontsize='large')\r\n",
        "plt.grid(True)"
      ],
      "execution_count": null,
      "outputs": []
    },
    {
      "cell_type": "markdown",
      "metadata": {
        "id": "Wa3EXI7nm15Y"
      },
      "source": [
        "# Great Stuff but I'm not here to play GAMES!!\r\n",
        "\r\n",
        "\r\n",
        "---\r\n",
        "\r\n",
        "\r\n",
        "What if I want to use RL for **REAL** research?\r\n",
        "\r\n",
        "\r\n",
        "*   Wireless communications\r\n",
        "*   Control systems\r\n",
        "*   Biomedical engineering\r\n",
        "*   Informatics\r\n",
        "\r\n",
        "\r\n",
        "---\r\n",
        "\r\n",
        "\r\n",
        "### How do I make RL useful for my **WORK**\r\n",
        "Good News, you CAN!\r\n",
        "\r\n",
        "Here's how:\r\n",
        "Remember the **DRILL**??\r\n",
        "\r\n",
        "\r\n",
        "1.   Write your own *Environment*\r\n",
        "2.   Modify the *Agent* if your need to\r\n",
        "3.   Run the training loop (do I need to store any additional permonace metric??)\r\n",
        "4.   Plot your results\r\n",
        "\r\n",
        "\r\n",
        "\r\n"
      ]
    },
    {
      "cell_type": "code",
      "metadata": {
        "id": "9FKabvf87A49"
      },
      "source": [
        "class WireLessEnv(gym.Env):\r\n",
        "  def __init__(self, n_PU =1 , horizon =20):\r\n",
        "    super(WireLessEnv, self).__init__()  # initialize gym.Env base class\r\n",
        "    self.action_space: spaces.MultiBinary = spaces.Box(low=0,high=1,shape=(n_PU,),dtype=np.int32)\r\n",
        "    self.observation_space: spaces.Discrete = spaces.Discrete(horizon + 1)  # observation space {0, 1, ..., horizon}\r\n",
        "    self.horizon = horizon  # gym horizon to know when we are DONE\r\n",
        "    self.n_PU = n_PU #Number of PUs\r\n",
        "    self.TxPattern = np.random.randint(2, size=(horizon,n_PU))\r\n",
        "    self.t = 0  # initial time-step / observation \r\n",
        "    \r\n",
        "  \r\n",
        "\r\n",
        "  def reset(self): # Returns initial state of environment\r\n",
        "    self.t = 0\r\n",
        "    ############### Return initial state of the environment #########################################\r\n",
        "\r\n",
        "\r\n",
        "\r\n",
        "\r\n",
        "\r\n",
        "    return \r\n",
        "\r\n",
        "\r\n",
        "\r\n",
        "  def step(self, action): #action is a binary  0 or 1\r\n",
        "\r\n",
        "    if self.t < self.horizon:  # non-terminal observation, horizon not reached\r\n",
        "      ### Calculate Reward\r\n",
        "      r = np.sum((action == self.TxPattern[self.t,:]).astype(int)) \r\n",
        "\r\n",
        "    else:  # gym horizon reached\r\n",
        "      r = 0.0\r\n",
        "\r\n",
        "    self.t += 1  # increment our time-step / observation\r\n",
        "    o = self.t  # observation that will return\r\n",
        "    done = (self.t == self.horizon)  # is terminal gym state reached\r\n",
        "\r\n",
        "    return o, r, done, {}  # gyms always returns <obs, reward, terminal obs reached, debug/info dictionary>\r\n",
        "\r\n",
        "  def render(self,mode='human'):\r\n",
        "    print('Lets see TxPattern \\n')\r\n",
        "    print(self.TxPattern)\r\n",
        "\r\n",
        "\r\n",
        "\r\n"
      ],
      "execution_count": null,
      "outputs": []
    },
    {
      "cell_type": "markdown",
      "metadata": {
        "id": "HKjCNvzQ8Cc1"
      },
      "source": [
        "---\r\n",
        "# Let's get our env\r\n",
        "---"
      ]
    },
    {
      "cell_type": "code",
      "metadata": {
        "id": "rlU__RFy8BWn"
      },
      "source": [
        "env_name = \"WirelessEnv\"\r\n",
        "env = WireLessEnv()"
      ],
      "execution_count": null,
      "outputs": []
    },
    {
      "cell_type": "code",
      "metadata": {
        "id": "OqvC7fGSqwPw"
      },
      "source": [
        "dir(env.action_space)"
      ],
      "execution_count": null,
      "outputs": []
    },
    {
      "cell_type": "code",
      "metadata": {
        "id": "ucveVNtFsfEs"
      },
      "source": [
        ""
      ],
      "execution_count": null,
      "outputs": []
    },
    {
      "cell_type": "code",
      "metadata": {
        "id": "Q4cbKxce7gcO"
      },
      "source": [
        ""
      ],
      "execution_count": null,
      "outputs": []
    },
    {
      "cell_type": "code",
      "metadata": {
        "id": "-u4oPesHntlK"
      },
      "source": [
        "stepsize= round(num_episodes/20)\r\n",
        "stdfigsize=(3.51*1.5,3*1.5)\r\n",
        "x = np.arange(1,num_episodes,stepsize)\r\n",
        "mkrs = [\"C2-s\",\"C0-o\",\"C1-^\",\"C4-*\",\"C3-d\",\"C4-x\",\"C5-.\",\"C6-d\",\"C7-v\",\"C8-,\",\"C9-<\",\"C20\",\"C11-\",\"C12-\"]\r\n",
        "fig = plt.figure(figsize=stdfigsize)\r\n",
        "plt.plot(x, running_acc[1:-1:stepsize],mkrs[0],label='Accuracy')\r\n",
        "plt.xlabel('Episode Number', fontsize='large')\r\n",
        "plt.ylabel('Accuracy', fontsize='large')\r\n",
        "plt.legend(loc='lower right',shadow=True,fontsize='large')\r\n",
        "plt.grid(True)\r\n"
      ],
      "execution_count": null,
      "outputs": []
    },
    {
      "cell_type": "code",
      "metadata": {
        "id": "PakLx_W1wMeK"
      },
      "source": [
        "stepsize= round(num_episodes/20)\r\n",
        "stdfigsize=(3.51*1.5,3*1.5)\r\n",
        "x = np.arange(1,num_episodes,stepsize)\r\n",
        "mkrs = [\"C2-s\",\"C0-o\",\"C1-^\",\"C4-*\",\"C3-d\",\"C4-x\",\"C5-.\",\"C6-d\",\"C7-v\",\"C8-,\",\"C9-<\",\"C20\",\"C11-\",\"C12-\"]\r\n",
        "fig = plt.figure(figsize=stdfigsize)\r\n",
        "plt.plot(x, running_delta[1:-1:stepsize],mkrs[4],label='Delta')\r\n",
        "plt.xlabel('Episode Number', fontsize='large')\r\n",
        "plt.ylabel('Accuracy', fontsize='large')\r\n",
        "plt.legend(loc='upper right',shadow=True,fontsize='large')\r\n",
        "plt.grid(True)"
      ],
      "execution_count": null,
      "outputs": []
    },
    {
      "cell_type": "markdown",
      "metadata": {
        "id": "ren98xUpyDxA"
      },
      "source": [
        "---\r\n",
        "# What was Epsilon?\r\n",
        "---\r\n",
        "There is something called exploration vs. expoloitation in RL.\r\n",
        "\r\n",
        "\r\n",
        "> *Should the agent try a new action, or the action that gave the best reward previously?*\r\n",
        "\r\n",
        "A dog may have gotten a reward for spinning around but should it try fetching the ball in hopes of getting better reward?\r\n",
        "\r\n",
        "*   Try the best action so far (greedy action) with probability $1-\\epsilon$\r\n",
        "*  Try a random action from action-space with probability $\\epsilon$\r\n",
        "*   Should this probability $\\epsilon$ be constant thoughout the training?\r\n",
        "\r\n",
        "There are other ways to balance explorartion vs. exploitation e.g. Upper Confidence Bounds (UCB)\r\n",
        "\r\n",
        "\r\n",
        "---\r\n",
        "\r\n"
      ]
    },
    {
      "cell_type": "code",
      "metadata": {
        "id": "tk9Tf8mrTSnG"
      },
      "source": [
        "\r\n",
        "stepsize= round(num_episodes/20)\r\n",
        "stdfigsize=(3.51*1.5,3*1.5)\r\n",
        "x = np.arange(1,num_episodes,stepsize)\r\n",
        "mkrs = [\"C2-s\",\"C0-o\",\"C1-^\",\"C4-*\",\"C3-d\",\"C4-x\",\"C5-.\",\"C6-d\",\"C7-v\",\"C8-,\",\"C9-<\",\"C20\",\"C11-\",\"C12-\"]\r\n",
        "fig = plt.figure(figsize=stdfigsize)\r\n",
        "plt.plot(x, agent.eps[1:-1:stepsize],mkrs[2],label='$\\epsilon$')\r\n",
        "plt.xlabel('Episode Number', fontsize='large')\r\n",
        "plt.ylabel('$\\epsilon$', fontsize='large')\r\n",
        "plt.legend(loc='upper right',shadow=True,fontsize='large')\r\n",
        "plt.grid(True)"
      ],
      "execution_count": null,
      "outputs": []
    }
  ]
}